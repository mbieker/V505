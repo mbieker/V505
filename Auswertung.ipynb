{
 "cells": [
  {
   "cell_type": "code",
   "execution_count": 1,
   "metadata": {
    "collapsed": false
   },
   "outputs": [],
   "source": [
    "import numpy as np\n",
    "from scipy.constants import  mu_0, h\n",
    "import matplotlib.pylab as plt\n",
    "%matplotlib inline\n",
    "import pandas as pd\n",
    "from scipy.optimize import curve_fit\n",
    "from uncertainties import ufloat \n",
    "import uncertainties.unumpy as unp"
   ]
  },
  {
   "cell_type": "code",
   "execution_count": 2,
   "metadata": {
    "collapsed": false
   },
   "outputs": [],
   "source": [
    "x_res = np.array([4.6,7.0,4.35,6.2,9.7,6.,2.7,12.1])\n",
    "x_end = np.array([12,11.6,11.8,11.9,12.0,11.9,14.8,16.3])\n",
    "I_begin =  np.array([-584.,94,-475,2,96,-761,-759,134])*1e-3\n",
    "I_end = np.array([-152,524,-47,420,527,-335,-225,718])*1e-3"
   ]
  },
  {
   "cell_type": "code",
   "execution_count": 49,
   "metadata": {
    "collapsed": false
   },
   "outputs": [],
   "source": [
    "#Resonanzstrom berechnen\n",
    "I_res = pd.Series(I_begin + (I_end-I_begin)/(x_end)*x_res, name= r\"$I_\\mathrm{res}$ in \\si{\\milli\\ampere}\")"
   ]
  },
  {
   "cell_type": "code",
   "execution_count": 50,
   "metadata": {
    "collapsed": false
   },
   "outputs": [],
   "source": [
    "B_res = pd.Series(8/ np.sqrt(125) * mu_0*156./0.1*I_res, name=r\"$B_\\mathrm{res}$ in \\si{\\milli\\ampere}\")"
   ]
  },
  {
   "cell_type": "code",
   "execution_count": 51,
   "metadata": {
    "collapsed": true
   },
   "outputs": [],
   "source": [
    "f = pd.Series([15.92,10.552,20.522,25], name = r\"$f_\\mathrm{res}$ in \\si{\\mega\\hertz}\")*1e6"
   ]
  },
  {
   "cell_type": "code",
   "execution_count": 6,
   "metadata": {
    "collapsed": true
   },
   "outputs": [],
   "source": [
    "para = B_res > 0\n",
    "anti = B_res < 0"
   ]
  },
  {
   "cell_type": "code",
   "execution_count": 11,
   "metadata": {
    "collapsed": false
   },
   "outputs": [
    {
     "name": "stdout",
     "output_type": "stream",
     "text": [
      "30046692078.4\n"
     ]
    },
    {
     "data": {
      "image/png": "[encoded data removed]",
      "text/plain": [
       "<matplotlib.figure.Figure at 0x7f12118eae10>"
      ]
     },
     "metadata": {},
     "output_type": "display_data"
    },
    {
     "name": "stdout",
     "output_type": "stream",
     "text": [
      "[[  1.44656337e+18  -8.04127289e+14]\n",
      " [ -8.04127289e+14   4.92987475e+11]]\n",
      "29341774104.2\n"
     ]
    },
    {
     "data": {
      "image/png": "[encoded data removed]",
      "text/plain": [
       "<matplotlib.figure.Figure at 0x7f12118530f0>"
      ]
     },
     "metadata": {},
     "output_type": "display_data"
    },
    {
     "name": "stdout",
     "output_type": "stream",
     "text": [
      "[[  3.00277960e+18  -2.04643375e+15]\n",
      " [ -2.04643375e+15   1.49438911e+12]]\n"
     ]
    }
   ],
   "source": [
    "name = [\"para.pdf\", \"anti.pdf\"]\n",
    "m_list = []\n",
    "b_list = []\n",
    "def linear(x,m,b):\n",
    "    return m*x+b\n",
    "\n",
    "for alig in [para,anti]:\n",
    "    plt.close()\n",
    "    plt.plot( abs(B_res[alig])*1e3,f*1e-6, 'x', label=\"Messwerte\")\n",
    "    \n",
    "    (m,b), cov =  curve_fit(linear, abs(B_res[alig]),f,(3e7,0))\n",
    "    print(m)\n",
    "    x = np.linspace(0,.001)\n",
    "    plt.plot(x*1e3,(m*x+b)*1e-6, label=\"lineare Regression\")\n",
    "    plt.xlabel(\"B in mT\")\n",
    "    plt.ylabel(\"f in MHz\")\n",
    "    plt.legend(loc=2)\n",
    "    m_list.append(ufloat(m,cov[0][0]**0.5))\n",
    "    b_list.append(ufloat(b,cov[1][1]**0.5))\n",
    "    plt.savefig(name.pop())\n",
    "    plt.show()\n",
    "    print(cov)\n",
    "    \n",
    "m = np.array(m_list)\n",
    "b = np.array(b_list)"
   ]
  },
  {
   "cell_type": "code",
   "execution_count": 43,
   "metadata": {
    "collapsed": false
   },
   "outputs": [],
   "source": [
    "# Landé Faktor berechnen\n",
    "g = m*h/9.27e-24\n",
    "b_erde = abs(b*h/(9.27e-24*g))"
   ]
  },
  {
   "cell_type": "code",
   "execution_count": 63,
   "metadata": {
    "collapsed": false
   },
   "outputs": [
    {
     "data": {
      "text/plain": [
       "'2.35'"
      ]
     },
     "execution_count": 63,
     "metadata": {},
     "output_type": "execute_result"
    }
   ],
   "source": [
    "form2(2.3472)"
   ]
  },
  {
   "cell_type": "code",
   "execution_count": 75,
   "metadata": {
    "collapsed": false
   },
   "outputs": [
    {
     "name": "stdout",
     "output_type": "stream",
     "text": [
      "   $f_\\mathrm{res}$ in \\si{\\mega\\hertz}  \\\n",
      "0                                15.920   \n",
      "1                                10.552   \n",
      "2                                20.522   \n",
      "3                                25.000   \n",
      "\n",
      "   $I_\\mathrm{res}$ in \\si{\\milli\\ampere}  \\\n",
      "0                              353.482759   \n",
      "1                              219.781513   \n",
      "2                              444.391667   \n",
      "3                              567.521472   \n",
      "\n",
      "   $B_\\mathrm{res}$ in \\si{\\milli\\ampere}  \n",
      "0                                0.495836  \n",
      "1                                0.308291  \n",
      "2                                0.623355  \n",
      "3                                0.796071  \n",
      "   $f_\\mathrm{res}$ in \\si{\\mega\\hertz}  \\\n",
      "0                                15.920   \n",
      "1                                10.552   \n",
      "2                                20.522   \n",
      "3                                25.000   \n",
      "\n",
      "   $I_\\mathrm{res}$ in \\si{\\milli\\ampere}  \\\n",
      "0                              418.400000   \n",
      "1                              317.220339   \n",
      "2                              546.210084   \n",
      "3                              661.581081   \n",
      "\n",
      "   $B_\\mathrm{res}$ in \\si{\\milli\\ampere}  \n",
      "0                                0.586896  \n",
      "1                                0.444970  \n",
      "2                                0.766177  \n",
      "3                                0.928010  \n"
     ]
    }
   ],
   "source": [
    "#Daten tabelle erstellen\n",
    "def form2(x):\n",
    "    return \"%.2f\"%x\n",
    "def form4(x):\n",
    "    return str(round(x,3))\n",
    "name = [\"para.tex\", \"anti.tex\"]\n",
    "for alig in [para,anti]:\n",
    "    out = open(name.pop(),\"w+\")\n",
    "    df = pd.DataFrame([f*1e-6,abs(I_res[alig].reset_index(drop=True))*1e3, abs(B_res[alig].reset_index(drop=True)*1e3)]).T\n",
    "    print(df)\n",
    "    df.to_latex(out,index=False, formatters=[form2,lambda x: str(int(round(x))),form4], escape=False)\n",
    "    out.close()"
   ]
  },
  {
   "cell_type": "code",
   "execution_count": 65,
   "metadata": {
    "collapsed": false
   },
   "outputs": [],
   "source": [
    "#Result table\n",
    "\n",
    "df = pd.DataFrame([m,b*1e-6,g, b_erde*1e3], index=[r\"$m$ in \\si{\\hertz\\per\\tesla}\", r\"b in \\si{\\mega\\hertz}\", \"g\", r\"$B_\\mathrm{Erde}$ in \\si{\\milli\\tesla}\"] ,\n",
    "                  columns=[\"parallel\",\"anti-parallel\"]).T\n"
   ]
  },
  {
   "cell_type": "code",
   "execution_count": 47,
   "metadata": {
    "collapsed": false
   },
   "outputs": [],
   "source": [
    "out = open(\"results.tex\",\"w\")\n",
    "out.write(df.to_latex(escape=False, formatters=4*[\"${:L}$\".format]).replace(\"lllll\",\"lcccc\"))\n",
    "out.close()"
   ]
  },
  {
   "cell_type": "code",
   "execution_count": 78,
   "metadata": {
    "collapsed": false
   },
   "outputs": [
    {
     "data": {
      "text/plain": [
       "'2.12+/-0.08'"
      ]
     },
     "execution_count": 78,
     "metadata": {},
     "output_type": "execute_result"
    }
   ],
   "source": [
    "str(g.mean())"
   ]
  },
  {
   "cell_type": "code",
   "execution_count": 79,
   "metadata": {
    "collapsed": false
   },
   "outputs": [
    {
     "data": {
      "text/plain": [
       "'(5.6+/-2.4)e-05'"
      ]
     },
     "execution_count": 79,
     "metadata": {},
     "output_type": "execute_result"
    }
   ],
   "source": [
    "str(b_erde.mean())"
   ]
  },
  {
   "cell_type": "code",
   "execution_count": 35,
   "metadata": {
    "collapsed": true
   },
   "outputs": [],
   "source": [
    "df.to_latex?"
   ]
  },
  {
   "cell_type": "code",
   "execution_count": null,
   "metadata": {
    "collapsed": true
   },
   "outputs": [],
   "source": []
  }
 ],
 "metadata": {
  "kernelspec": {
   "display_name": "Python 3",
   "language": "python",
   "name": "python3"
  },
  "language_info": {
   "codemirror_mode": {
    "name": "ipython",
    "version": 3
   },
   "file_extension": ".py",
   "mimetype": "text/x-python",
   "name": "python",
   "nbconvert_exporter": "python",
   "pygments_lexer": "ipython3",
   "version": "3.4.3"
  },
  "name": "Auswertung.ipynb"
 },
 "nbformat": 4,
 "nbformat_minor": 0
}
